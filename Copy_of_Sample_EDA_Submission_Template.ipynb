{
  "nbformat": 4,
  "nbformat_minor": 0,
  "metadata": {
    "colab": {
      "private_outputs": true,
      "provenance": [],
      "collapsed_sections": [
        "b0JNsNcRphqO",
        "gIfDvo9L0UH2"
      ],
      "include_colab_link": true
    },
    "kernelspec": {
      "name": "python3",
      "display_name": "Python 3"
    },
    "language_info": {
      "name": "python"
    }
  },
  "cells": [
    {
      "cell_type": "markdown",
      "metadata": {
        "id": "view-in-github",
        "colab_type": "text"
      },
      "source": [
        "<a href=\"https://colab.research.google.com/github/srikant3377/playstore_eda_in_python/blob/main/Copy_of_Sample_EDA_Submission_Template.ipynb\" target=\"_parent\"><img src=\"https://colab.research.google.com/assets/colab-badge.svg\" alt=\"Open In Colab\"/></a>"
      ]
    },
    {
      "cell_type": "markdown",
      "source": [
        "# **Project Name**    -\n",
        "\n"
      ],
      "metadata": {
        "id": "vncDsAP0Gaoa"
      }
    },
    {
      "cell_type": "markdown",
      "source": [
        "##### **Project Type**    - EDA/Regression/Classification/Unsupervised\n",
        "##### **Contribution**    - Individual/Team\n",
        "##### **Team Member 1 -**\n",
        "##### **Team Member 2 -**\n",
        "##### **Team Member 3 -**\n",
        "##### **Team Member 4 -**"
      ],
      "metadata": {
        "id": "beRrZCGUAJYm"
      }
    },
    {
      "cell_type": "markdown",
      "source": [
        "# **Project Summary -**"
      ],
      "metadata": {
        "id": "FJNUwmbgGyua"
      }
    },
    {
      "cell_type": "markdown",
      "source": [
        "Write the summary here within 500-600 words."
      ],
      "metadata": {
        "id": "F6v_1wHtG2nS"
      }
    },
    {
      "cell_type": "markdown",
      "source": [
        "Exploratory Data Analysis of Google Play Store Data\n",
        "\n",
        "Objective:\n",
        "\n",
        "The objective of this project is to perform an exploratory data analysis (EDA) on the Google Play Store dataset. This analysis aims to uncover insights regarding app characteristics, user feedback, ratings, installations, and other relevant metrics. These insights can help app developers, marketers, and users make informed decisions.\n",
        "\n",
        "Dataset:\n",
        "\n",
        "The dataset comprises various attributes related to apps available on the Google Play Store, including:\n",
        "\n",
        "App: Name of the app.\n",
        "\n",
        "Category: Category to which the app belongs.\n",
        "\n",
        "Rating: Average user rating of the app.\n",
        "\n",
        "Reviews: Number of user reviews.\n",
        "\n",
        "Size: Size of the app (in MB or KB).\n",
        "\n",
        "Installs: Number of installations.\n",
        "\n",
        "Type: Whether the app is free or paid.\n",
        "\n",
        "Price: Price of the app (if paid).\n",
        "\n",
        "Content Rating: Target audience of the app.\n",
        "\n",
        "Genres: Genre(s) of the app.\n",
        "\n",
        "Last Updated: Last update date of the app.\n",
        "\n",
        "Current Version: Current version of the app.\n",
        "\n",
        "Android Version: Minimum Android version required.\n",
        "\n",
        "Steps and Methodology:\n",
        "\n",
        "Loading and Understanding the Data\n",
        "\n",
        "Load the dataset using pandas.\n",
        "\n",
        "Inspect the dataset structure, data types, and sample entries.\n",
        "\n",
        "Compute basic statistics and check for missing values.\n",
        "\n",
        "Data Cleaning\n",
        "\n",
        "\n",
        "Handle missing values by filling or dropping rows/columns as appropriate.\n",
        "\n",
        "Convert data types where necessary (e.g., Installs and Price to numeric).\n",
        "\n",
        "Remove duplicates to ensure data integrity.\n",
        "Standardize values for better consistency (e.g., convert Size to a common unit).\n",
        "\n",
        "Descriptive Statistics\n",
        "\n",
        "Generate summary statistics for numerical columns.\n",
        "Count the occurrences of categorical values (e.g., app categories).\n",
        "\n",
        "Visualizing Distributions\n",
        "\n",
        "\n",
        "Use histograms and box plots to visualize the distribution of ratings, reviews, and app sizes.\n",
        "Create bar plots to visualize the count of apps in different categories and content ratings.\n",
        "Identifying Relationships Between Features\n",
        "\n",
        "\n",
        "Use scatter plots and heatmaps to explore relationships between numerical features.\n",
        "Analyze the correlation between ratings, reviews, and installs.\n",
        "\n",
        "Category-Wise Analysis\n",
        "\n",
        "\n",
        "Compare average ratings, reviews, and installs across different app categories.\n",
        "Identify which categories have the highest and lowest engagement.\n",
        "\n",
        "Trend Analysis\n",
        "\n",
        "\n",
        "Analyze trends over time (e.g., number of apps updated recently, version updates).\n",
        "Study the distribution of apps by minimum Android version requirement."
      ],
      "metadata": {
        "id": "LaPXczLE-gzA"
      }
    },
    {
      "cell_type": "markdown",
      "source": [
        "# **GitHub Link -**"
      ],
      "metadata": {
        "id": "w6K7xa23Elo4"
      }
    },
    {
      "cell_type": "markdown",
      "source": [
        "Provide your GitHub Link here.\n",
        "https://github.com/srikant3377/playstore_eda/blob/main/Copy_of_Sample_EDA_Submission_Template.ipynb"
      ],
      "metadata": {
        "id": "h1o69JH3Eqqn"
      }
    },
    {
      "cell_type": "markdown",
      "source": [
        "# **Problem Statement**\n"
      ],
      "metadata": {
        "id": "yQaldy8SH6Dl"
      }
    },
    {
      "cell_type": "markdown",
      "source": [
        "**Write Problem Statement Here.**"
      ],
      "metadata": {
        "id": "DpeJGUA3kjGy"
      }
    },
    {
      "cell_type": "markdown",
      "source": [
        "Problem Statement:\n",
        "\n",
        "The objective of this project is to conduct an exploratory data analysis (EDA) on the Google Play Store dataset to understand various factors influencing app success, such as app characteristics, user ratings, reviews, and installs. The insights derived from this analysis can help app developers, marketers, and business analysts make informed decisions to enhance app performance and user satisfaction."
      ],
      "metadata": {
        "id": "JjysIOEzzMw_"
      }
    },
    {
      "cell_type": "markdown",
      "source": [
        "#### **Define Your Business Objective?**"
      ],
      "metadata": {
        "id": "PH-0ReGfmX4f"
      }
    },
    {
      "cell_type": "markdown",
      "source": [
        "Business Objective:\n",
        "\n",
        "The business objective of this exploratory data analysis (EDA) is to derive actionable insights from Google Play Store data that can inform strategic decisions for app developers, marketers, and business analysts. By understanding the key factors that influence app success, such as ratings, reviews, installs, and category performance, stakeholders can optimize app development, marketing strategies, and user engagement practices."
      ],
      "metadata": {
        "id": "PhDvGCAqmjP1"
      }
    },
    {
      "cell_type": "markdown",
      "source": [
        "# **General Guidelines** : -  "
      ],
      "metadata": {
        "id": "mDgbUHAGgjLW"
      }
    },
    {
      "cell_type": "markdown",
      "source": [
        "1.   Well-structured, formatted, and commented code is required.\n",
        "2.   Exception Handling, Production Grade Code & Deployment Ready Code will be a plus. Those students will be awarded some additional credits.\n",
        "     \n",
        "     The additional credits will have advantages over other students during Star Student selection.\n",
        "       \n",
        "             [ Note: - Deployment Ready Code is defined as, the whole .ipynb notebook should be executable in one go\n",
        "                       without a single error logged. ]\n",
        "\n",
        "3.   Each and every logic should have proper comments.\n",
        "4. You may add as many number of charts you want. Make Sure for each and every chart the following format should be answered.\n",
        "        \n",
        "\n",
        "```\n",
        "# Chart visualization code\n",
        "```\n",
        "            \n",
        "\n",
        "*   Why did you pick the specific chart?\n",
        "*   What is/are the insight(s) found from the chart?\n",
        "* Will the gained insights help creating a positive business impact?\n",
        "Are there any insights that lead to negative growth? Justify with specific reason.\n",
        "\n",
        "5. You have to create at least 20 logical & meaningful charts having important insights.\n",
        "\n",
        "\n",
        "[ Hints : - Do the Vizualization in  a structured way while following \"UBM\" Rule.\n",
        "\n",
        "U - Univariate Analysis,\n",
        "\n",
        "B - Bivariate Analysis (Numerical - Categorical, Numerical - Numerical, Categorical - Categorical)\n",
        "\n",
        "M - Multivariate Analysis\n",
        " ]\n",
        "\n",
        "\n",
        "\n"
      ],
      "metadata": {
        "id": "ZrxVaUj-hHfC"
      }
    },
    {
      "cell_type": "markdown",
      "source": [
        "# ***Let's Begin !***"
      ],
      "metadata": {
        "id": "O_i_v8NEhb9l"
      }
    },
    {
      "cell_type": "markdown",
      "source": [
        "## ***1. Know Your Data***"
      ],
      "metadata": {
        "id": "HhfV-JJviCcP"
      }
    },
    {
      "cell_type": "markdown",
      "source": [
        "### Import Libraries"
      ],
      "metadata": {
        "id": "Y3lxredqlCYt"
      }
    },
    {
      "cell_type": "code",
      "source": [
        "# Import Libraries\n",
        "\n",
        "#importing the numpy and pandas for data processing and data wrangling\n",
        "\n",
        "import numpy as np # importing numpy and creating the alias as np\n",
        "import pandas as pd # importing pandas and creating the alias as pd\n",
        "\n",
        "#importing  libraries for the data visualisation\n",
        "\n",
        "import seaborn as sns  # importing seabirn and creating the alias as sns\n",
        "import matplotlib.pyplot as plt  # importing matplotlib.pyplot and creating the alias as olt\n"
      ],
      "metadata": {
        "id": "M8Vqi-pPk-HR"
      },
      "execution_count": null,
      "outputs": []
    },
    {
      "cell_type": "markdown",
      "source": [
        "### Dataset Loading"
      ],
      "metadata": {
        "id": "3RnN4peoiCZX"
      }
    },
    {
      "cell_type": "code",
      "source": [
        "# Load Dataset\n",
        "df=pd.read_csv('/content/Play Store Data.csv') # uploaded the data from the file and placed here the path\n",
        "\n"
      ],
      "metadata": {
        "id": "4CkvbW_SlZ_R"
      },
      "execution_count": null,
      "outputs": []
    },
    {
      "cell_type": "code",
      "source": [
        "#add,set option to be maximum for rows and columns\n",
        "pd.set_option('display.max_columns',None)\n",
        "pd.set_option('display.max_rows',None)\n",
        "\n",
        "# for hide all warnings\n",
        "import warnings\n",
        "warnings.filterwarnings('ignore')"
      ],
      "metadata": {
        "id": "Nq368WAjN50T"
      },
      "execution_count": null,
      "outputs": []
    },
    {
      "cell_type": "markdown",
      "source": [
        "### Dataset First View"
      ],
      "metadata": {
        "id": "x71ZqKXriCWQ"
      }
    },
    {
      "cell_type": "code",
      "source": [
        "# Dataset First Look\n",
        "df.head()\n"
      ],
      "metadata": {
        "id": "LWNFOSvLl09H"
      },
      "execution_count": null,
      "outputs": []
    },
    {
      "cell_type": "markdown",
      "source": [
        "### Dataset Rows & Columns count"
      ],
      "metadata": {
        "id": "7hBIi_osiCS2"
      }
    },
    {
      "cell_type": "code",
      "source": [
        "# Dataset Rows & Columns count\n",
        "print(df.shape)\n",
        "print(f'number of the rows : {df.shape[0]}')   # '0' for the rows\n",
        "print(f'number of the columns : {df.shape[1]}')   #'1' for the columns"
      ],
      "metadata": {
        "id": "Kllu7SJgmLij"
      },
      "execution_count": null,
      "outputs": []
    },
    {
      "cell_type": "markdown",
      "source": [
        "### Dataset Information"
      ],
      "metadata": {
        "id": "JlHwYmJAmNHm"
      }
    },
    {
      "cell_type": "code",
      "source": [
        "# Dataset Info\n",
        "df.info()"
      ],
      "metadata": {
        "id": "e9hRXRi6meOf"
      },
      "execution_count": null,
      "outputs": []
    },
    {
      "cell_type": "markdown",
      "source": [
        "#### Duplicate Values"
      ],
      "metadata": {
        "id": "35m5QtbWiB9F"
      }
    },
    {
      "cell_type": "code",
      "source": [
        "# Dataset Duplicate Value Count\n",
        "df.duplicated()\n",
        "df.duplicated().sum()"
      ],
      "metadata": {
        "id": "1sLdpKYkmox0"
      },
      "execution_count": null,
      "outputs": []
    },
    {
      "cell_type": "markdown",
      "source": [
        "#### Missing Values/Null Values"
      ],
      "metadata": {
        "id": "PoPl-ycgm1ru"
      }
    },
    {
      "cell_type": "code",
      "source": [
        "# Missing Values/Null Values Count\n",
        "df.isnull().sum()"
      ],
      "metadata": {
        "id": "GgHWkxvamxVg"
      },
      "execution_count": null,
      "outputs": []
    },
    {
      "cell_type": "code",
      "source": [
        "# Visualizing the missing values\n",
        "df.isnull().sum()"
      ],
      "metadata": {
        "id": "3q5wnI3om9sJ"
      },
      "execution_count": null,
      "outputs": []
    },
    {
      "cell_type": "markdown",
      "source": [
        "### What did you know about your dataset?"
      ],
      "metadata": {
        "id": "H0kj-8xxnORC"
      }
    },
    {
      "cell_type": "code",
      "source": [
        "df.head()"
      ],
      "metadata": {
        "id": "Qy4nVo8sutKd"
      },
      "execution_count": null,
      "outputs": []
    },
    {
      "cell_type": "markdown",
      "source": [],
      "metadata": {
        "id": "gfoNAAC-nUe_"
      }
    },
    {
      "cell_type": "markdown",
      "source": [
        "## ***2. Understanding Your Variables***"
      ],
      "metadata": {
        "id": "nA9Y7ga8ng1Z"
      }
    },
    {
      "cell_type": "code",
      "source": [
        "# Dataset Columns\n",
        "df.columns"
      ],
      "metadata": {
        "id": "j7xfkqrt5Ag5"
      },
      "execution_count": null,
      "outputs": []
    },
    {
      "cell_type": "code",
      "source": [
        "df.info()"
      ],
      "metadata": {
        "id": "xMvn6fV6zimQ"
      },
      "execution_count": null,
      "outputs": []
    },
    {
      "cell_type": "code",
      "source": [
        "df['Size'].value_counts()"
      ],
      "metadata": {
        "id": "Z2ygc4EQz3lP"
      },
      "execution_count": null,
      "outputs": []
    },
    {
      "cell_type": "code",
      "source": [
        "# i obserbed thet 'size' contain -->M,K and 'Varies with device'\n",
        "df['Size'].isnull().sum()\n",
        "# no missing values and we are good to go."
      ],
      "metadata": {
        "id": "dV5gfPu3RFCk"
      },
      "execution_count": null,
      "outputs": []
    },
    {
      "cell_type": "code",
      "source": [
        "# find the values having M in size col\n",
        "df['Size'].loc[df['Size'].str.contains('M')].value_counts().sum()"
      ],
      "metadata": {
        "id": "GkRgJXBKR_Sn"
      },
      "execution_count": null,
      "outputs": []
    },
    {
      "cell_type": "code",
      "source": [
        "# find the values having K in size col\n",
        "df['Size'].loc[df['Size'].str.contains('k')].value_counts().sum()"
      ],
      "metadata": {
        "id": "dOw1wyEkSrkm"
      },
      "execution_count": null,
      "outputs": []
    },
    {
      "cell_type": "code",
      "source": [
        "# find the values having 'Varies with device' in size col\n",
        "df['Size'].loc[df['Size'].str.contains('Varies with device')].value_counts().sum()"
      ],
      "metadata": {
        "id": "t6b0JAYKS3Fn"
      },
      "execution_count": null,
      "outputs": []
    },
    {
      "cell_type": "code",
      "source": [
        "#check total no.of rows\n",
        "print(len(df))\n",
        "print(8829+316+1695)"
      ],
      "metadata": {
        "id": "12185uLbTNZ3"
      },
      "execution_count": null,
      "outputs": []
    },
    {
      "cell_type": "code",
      "source": [
        "#convert the whole size columns into bytes\n",
        "def con(size):\n",
        "  if isinstance(size,str):\n",
        "    if 'k' in size:\n",
        "      return float(size.replace('k',''))*1024\n",
        "    elif 'M' in size:\n",
        "      return float(size.replace('M',''))*1024 * 1024\n",
        "    elif 'Varies with device' in size:\n",
        "      return np.nan\n",
        "  return size"
      ],
      "metadata": {
        "id": "Oyt1U2USTq3f"
      },
      "execution_count": null,
      "outputs": []
    },
    {
      "cell_type": "code",
      "source": [
        "df['Size']=df['Size'].apply(con)"
      ],
      "metadata": {
        "id": "2ZuWaqPyWsJq"
      },
      "execution_count": null,
      "outputs": []
    },
    {
      "cell_type": "code",
      "source": [
        "df['Size']"
      ],
      "metadata": {
        "id": "qG1GOgb8XBTD"
      },
      "execution_count": null,
      "outputs": []
    },
    {
      "cell_type": "code",
      "source": [
        "# rename the 'Size' col\n",
        "df.rename(columns={'Size': 'Size_in_bytes'},inplace=True)"
      ],
      "metadata": {
        "id": "TEeqf4BNXVpt"
      },
      "execution_count": null,
      "outputs": []
    },
    {
      "cell_type": "code",
      "source": [
        "df.info()"
      ],
      "metadata": {
        "id": "JDcYbU-qaOi4"
      },
      "execution_count": null,
      "outputs": []
    },
    {
      "cell_type": "code",
      "source": [
        "# # # i want to see 'size' column in Mb\n",
        "# df['Size_in_Mb']=df['Size_in_bytes'].apply(lambda x: x/(1024*1024))\n",
        "# # df['Size_in_bytes'] = df['Size_in_bytes'].astype(int)\n",
        "# # df.replace(np.nan,0,inplace=True)"
      ],
      "metadata": {
        "id": "YCarzj6bX6KS"
      },
      "execution_count": null,
      "outputs": []
    },
    {
      "cell_type": "code",
      "source": [
        "#  df['Size_in_bytes'] = df['Size_in_bytes'].astype(float)\n"
      ],
      "metadata": {
        "id": "LCdTJYAZfeOk"
      },
      "execution_count": null,
      "outputs": []
    },
    {
      "cell_type": "code",
      "source": [
        "df['Size_in_bytes'].value_counts()"
      ],
      "metadata": {
        "id": "MdHt9iz3Opsb"
      },
      "execution_count": null,
      "outputs": []
    },
    {
      "cell_type": "code",
      "source": [
        "# to remove the row which contain 'free'\n",
        "df = df[df['Installs'] != 'Free']"
      ],
      "metadata": {
        "id": "fTPUK_jwuviZ"
      },
      "execution_count": null,
      "outputs": []
    },
    {
      "cell_type": "code",
      "source": [
        "# add, lets focus on the 'install' column\n",
        "df['Installs'].unique()"
      ],
      "metadata": {
        "id": "OfCijGkJ_scn"
      },
      "execution_count": null,
      "outputs": []
    },
    {
      "cell_type": "code",
      "source": [
        "df['Installs'].value_counts()"
      ],
      "metadata": {
        "id": "OVcjG77ZALhD"
      },
      "execution_count": null,
      "outputs": []
    },
    {
      "cell_type": "code",
      "source": [
        "df['Installs'].isnull().sum()\n",
        "# no missing values in 'Installs' column"
      ],
      "metadata": {
        "id": "9idK7WQKA1nK"
      },
      "execution_count": null,
      "outputs": []
    },
    {
      "cell_type": "code",
      "source": [
        "# 1.remove + sign\n",
        "# 2.remove ,\n",
        "# 3.convert the column into an integer\n",
        "\n",
        "#1\n",
        "df['Installs']=df['Installs'].apply(lambda x: x.replace('+','') if '+' in str(x) else x)"
      ],
      "metadata": {
        "id": "11HuGYKLAm1C"
      },
      "execution_count": null,
      "outputs": []
    },
    {
      "cell_type": "code",
      "source": [
        "#2.\n",
        "df['Installs']=df['Installs'].apply(lambda x: x.replace(',','') if ',' in str(x) else x)"
      ],
      "metadata": {
        "id": "WFHGiR48CJ6v"
      },
      "execution_count": null,
      "outputs": []
    },
    {
      "cell_type": "code",
      "source": [
        "df.dtypes"
      ],
      "metadata": {
        "id": "4dCrEDzxEpZ8"
      },
      "execution_count": null,
      "outputs": []
    },
    {
      "cell_type": "code",
      "source": [],
      "metadata": {
        "id": "dKaDyuXkNfBr"
      },
      "execution_count": null,
      "outputs": []
    },
    {
      "cell_type": "code",
      "source": [
        "# 3.\n",
        "df['Installs']= df['Installs'].apply(lambda x: int(x) )"
      ],
      "metadata": {
        "id": "Um9ZordsChQG"
      },
      "execution_count": null,
      "outputs": []
    },
    {
      "cell_type": "code",
      "source": [
        "df['Installs'].value_counts()"
      ],
      "metadata": {
        "id": "LmRBp4aQFa-L"
      },
      "execution_count": null,
      "outputs": []
    },
    {
      "cell_type": "code",
      "source": [
        "df['Installs'].value_counts()"
      ],
      "metadata": {
        "id": "-lLPic54OKlE"
      },
      "execution_count": null,
      "outputs": []
    },
    {
      "cell_type": "code",
      "source": [
        "df.describe()"
      ],
      "metadata": {
        "id": "c-e50I43IJVy"
      },
      "execution_count": null,
      "outputs": []
    },
    {
      "cell_type": "code",
      "source": [
        "# price column\n",
        "df['Price'].value_counts()"
      ],
      "metadata": {
        "id": "uCP0Ib9oIYI0"
      },
      "execution_count": null,
      "outputs": []
    },
    {
      "cell_type": "code",
      "source": [
        "# lets see how many values have $ sign\n",
        "df['Price'].loc[df['Price'].str.contains('$')].value_counts().sum()\n"
      ],
      "metadata": {
        "id": "X5mBfbhaIiAv"
      },
      "execution_count": null,
      "outputs": []
    },
    {
      "cell_type": "code",
      "source": [
        "df['Price'].value_counts()"
      ],
      "metadata": {
        "id": "9yHTVT3MMZFq"
      },
      "execution_count": null,
      "outputs": []
    },
    {
      "cell_type": "code",
      "source": [
        "# this code counts the number of values in the 'Price' column which contains 0 but does not contain $ sign\n",
        "df['Price'].loc[(df['Price']==0) & (df['Price'].str.contains('$')==False)].value_counts().sum()"
      ],
      "metadata": {
        "id": "bmiVGmoqJd_L"
      },
      "execution_count": null,
      "outputs": []
    },
    {
      "cell_type": "code",
      "source": [
        "# Drop rows where 'Price' column is 'Everyone'\n",
        "df = df[df['Price'] != 'Everyone']\n",
        "\n",
        "\n"
      ],
      "metadata": {
        "id": "I4fEItkWMKYb"
      },
      "execution_count": null,
      "outputs": []
    },
    {
      "cell_type": "code",
      "source": [
        "# price column\n",
        "# df['Price']=df['Price'].apply(lambda x: float(x))"
      ],
      "metadata": {
        "id": "aZHiFvzdKQn9"
      },
      "execution_count": null,
      "outputs": []
    },
    {
      "cell_type": "code",
      "source": [
        "# price column\n",
        "df['Price'].value_counts()"
      ],
      "metadata": {
        "id": "5tD-hOjWK5dx"
      },
      "execution_count": null,
      "outputs": []
    },
    {
      "cell_type": "code",
      "source": [
        "df['Price']=df['Price'].apply(lambda x: x.replace('$','') if '$' in str(x) else x)"
      ],
      "metadata": {
        "id": "WrQIjtwGKu1m"
      },
      "execution_count": null,
      "outputs": []
    },
    {
      "cell_type": "code",
      "source": [
        "df.dtypes"
      ],
      "metadata": {
        "id": "Ed8SKICsXpPI"
      },
      "execution_count": null,
      "outputs": []
    },
    {
      "cell_type": "code",
      "source": [
        "# Dataset Describe\n",
        "df.describe()"
      ],
      "metadata": {
        "id": "DnOaZdaE5Q5t"
      },
      "execution_count": null,
      "outputs": []
    },
    {
      "cell_type": "markdown",
      "source": [
        "### Variables Description"
      ],
      "metadata": {
        "id": "PBTbrJXOngz2"
      }
    },
    {
      "cell_type": "code",
      "source": [
        "df.head()"
      ],
      "metadata": {
        "id": "ka2BxEJNJK6a"
      },
      "execution_count": null,
      "outputs": []
    },
    {
      "cell_type": "markdown",
      "source": [
        "Answer Here"
      ],
      "metadata": {
        "id": "aJV4KIxSnxay"
      }
    },
    {
      "cell_type": "markdown",
      "source": [
        "### Check Unique Values for each variable."
      ],
      "metadata": {
        "id": "u3PMJOP6ngxN"
      }
    },
    {
      "cell_type": "code",
      "source": [
        "# Check Unique Values for each variable.\n",
        "df.nunique().value_counts()\n",
        "df.nunique()"
      ],
      "metadata": {
        "id": "zms12Yq5n-jE"
      },
      "execution_count": null,
      "outputs": []
    },
    {
      "cell_type": "code",
      "source": [
        "# by using the f string we print min,max and avg of the price column\n",
        "print(f'min price : {df[\"Price\"].min()}')\n",
        "print(f'max price : {df[\"Price\"].max()}')\n",
        "# print(f'avg price : {df[\"Price\"].mean()}')"
      ],
      "metadata": {
        "id": "tYcodIUIwVWg"
      },
      "execution_count": null,
      "outputs": []
    },
    {
      "cell_type": "code",
      "source": [
        "# missing values\n",
        "df.isnull().sum().sort_values(ascending=False)"
      ],
      "metadata": {
        "id": "vIpeFstjyDf4"
      },
      "execution_count": null,
      "outputs": []
    },
    {
      "cell_type": "code",
      "source": [],
      "metadata": {
        "id": "dVtG1-dfyoIY"
      },
      "execution_count": null,
      "outputs": []
    },
    {
      "cell_type": "code",
      "source": [
        "# find missing values percentage in the df\n",
        "round(df.isnull().sum()/len(df)*100,2).sort_values(ascending=False)"
      ],
      "metadata": {
        "id": "bukjVBU3yWBY"
      },
      "execution_count": null,
      "outputs": []
    },
    {
      "cell_type": "code",
      "source": [
        "# find total number of missing values\n",
        "df.isnull().sum().sum()"
      ],
      "metadata": {
        "id": "CGtEtG7izGw_"
      },
      "execution_count": null,
      "outputs": []
    },
    {
      "cell_type": "markdown",
      "source": [
        "Answer Here."
      ],
      "metadata": {
        "id": "LbyXE7I1olp8"
      }
    },
    {
      "cell_type": "markdown",
      "source": [
        "## ***4. Data Vizualization, Storytelling & Experimenting with charts : Understand the relationships between variables***"
      ],
      "metadata": {
        "id": "GF8Ens_Soomf"
      }
    },
    {
      "cell_type": "markdown",
      "source": [
        "#### Chart - 1"
      ],
      "metadata": {
        "id": "0wOQAZs5pc--"
      }
    },
    {
      "cell_type": "code",
      "source": [
        "# Chart - 1 visualization code\n",
        "\n",
        "plt.figure(figsize=(10,5))\n",
        "missing_percentage=df.isnull().sum()/len(df)*100\n",
        "missing_percentage.plot(kind='bar')\n",
        "plt.title('Missing value percentage of each columns')\n",
        "plt.xlabel('columns')\n",
        "plt.ylabel('missing value percentage')"
      ],
      "metadata": {
        "id": "7v_ESjsspbW7"
      },
      "execution_count": null,
      "outputs": []
    },
    {
      "cell_type": "markdown",
      "source": [
        "##### 1. Why did you pick the specific chart?"
      ],
      "metadata": {
        "id": "K5QZ13OEpz2H"
      }
    },
    {
      "cell_type": "markdown",
      "source": [
        "Answer Here.\n",
        " I picked this plot to find the columns which having total missing values counts"
      ],
      "metadata": {
        "id": "XESiWehPqBRc"
      }
    },
    {
      "cell_type": "markdown",
      "source": [
        "##### 2. What is/are the insight(s) found from the chart?"
      ],
      "metadata": {
        "id": "lQ7QKXXCp7Bj"
      }
    },
    {
      "cell_type": "markdown",
      "source": [
        "Answer Here..\n",
        "I found that from the plot ...\n",
        "total missing values having in 'Size_in_bytes' column is more and low in 'Type' column\n",
        "\n"
      ],
      "metadata": {
        "id": "C_j1G7yiqdRP"
      }
    },
    {
      "cell_type": "markdown",
      "source": [
        "##### 3. Will the gained insights help creating a positive business impact?\n",
        "Are there any insights that lead to negative growth? Justify with specific reason.\n",
        "I think there is no any negative growth ..it helps to do analysis ..it is difficult to a data analyst"
      ],
      "metadata": {
        "id": "448CDAPjqfQr"
      }
    },
    {
      "cell_type": "markdown",
      "source": [
        "Answer Here"
      ],
      "metadata": {
        "id": "3cspy4FjqxJW"
      }
    },
    {
      "cell_type": "markdown",
      "source": [
        "#### Chart - 2"
      ],
      "metadata": {
        "id": "KSlN3yHqYklG"
      }
    },
    {
      "cell_type": "code",
      "source": [
        "df.head()"
      ],
      "metadata": {
        "id": "UeOzWhgkSo6r"
      },
      "execution_count": null,
      "outputs": []
    },
    {
      "cell_type": "code",
      "source": [
        "df['Category'].value_counts()"
      ],
      "metadata": {
        "id": "E2upag1mTGkd"
      },
      "execution_count": null,
      "outputs": []
    },
    {
      "cell_type": "code",
      "source": [
        "# Chart - 2 visualization code\n",
        "plt.figure(figsize=(10,5))\n",
        "sns.lineplot(data=df,x='Category',y='Rating')\n",
        "plt.title('Category vs Rating')\n",
        "# plt.xlabel('Category')\n",
        "# plt.ylabel('Rating')\n",
        "plt.xticks(rotation=90)\n",
        "plt.show()\n"
      ],
      "metadata": {
        "id": "R4YgtaqtYklH"
      },
      "execution_count": null,
      "outputs": []
    },
    {
      "cell_type": "markdown",
      "source": [
        "##### 1. Why did you pick the specific chart?"
      ],
      "metadata": {
        "id": "t6dVpIINYklI"
      }
    },
    {
      "cell_type": "markdown",
      "source": [
        "Answer Here.\n",
        "I picked this chart to find out ' which particular category having highest rating ' ie relation between Category and Rating"
      ],
      "metadata": {
        "id": "5aaW0BYyYklI"
      }
    },
    {
      "cell_type": "markdown",
      "source": [
        "##### 2. What is/are the insight(s) found from the chart?"
      ],
      "metadata": {
        "id": "ijmpgYnKYklI"
      }
    },
    {
      "cell_type": "markdown",
      "source": [
        "Answer Here-->\n",
        "I found that overaly 'Events' category part having highest Ratings."
      ],
      "metadata": {
        "id": "PSx9atu2YklI"
      }
    },
    {
      "cell_type": "markdown",
      "source": [
        "##### 3. Will the gained insights help creating a positive business impact?\n",
        "Are there any insights that lead to negative growth? Justify with specific reason."
      ],
      "metadata": {
        "id": "-JiQyfWJYklI"
      }
    },
    {
      "cell_type": "markdown",
      "source": [
        "Answer Here..\n",
        "Obviously it hepling the bussiness skill ie 'Rating' shows the interaction among the people."
      ],
      "metadata": {
        "id": "BcBbebzrYklV"
      }
    },
    {
      "cell_type": "markdown",
      "source": [
        "#### Chart - 3"
      ],
      "metadata": {
        "id": "EM7whBJCYoAo"
      }
    },
    {
      "cell_type": "code",
      "source": [
        "# Chart - 3 visualization code\n",
        "# Data Cleaning\n",
        "\n",
        "\n",
        "plt.figure(figsize=(100, 20))\n",
        "sns.lineplot(x='Last Updated', y='Reviews', data=df, ci=None)\n",
        "plt.title('Trend of App Reviews Over Time')\n",
        "plt.xlabel('Date')\n",
        "plt.ylabel('Number of Reviews')\n",
        "plt.xticks(rotation=45)\n",
        "plt.show()\n"
      ],
      "metadata": {
        "id": "t6GMdE67YoAp"
      },
      "execution_count": null,
      "outputs": []
    },
    {
      "cell_type": "markdown",
      "source": [
        "##### 1. Why did you pick the specific chart?"
      ],
      "metadata": {
        "id": "fge-S5ZAYoAp"
      }
    },
    {
      "cell_type": "markdown",
      "source": [
        "Answer Here."
      ],
      "metadata": {
        "id": "5dBItgRVYoAp"
      }
    },
    {
      "cell_type": "markdown",
      "source": [
        "##### 2. What is/are the insight(s) found from the chart?"
      ],
      "metadata": {
        "id": "85gYPyotYoAp"
      }
    },
    {
      "cell_type": "markdown",
      "source": [
        "Answer Here\n",
        " Identifying outliers in low-rated free apps might signal issues that need immediate attention, such as bugs or poor user experience."
      ],
      "metadata": {
        "id": "4jstXR6OYoAp"
      }
    },
    {
      "cell_type": "markdown",
      "source": [
        "##### 3. Will the gained insights help creating a positive business impact?\n",
        "Are there any insights that lead to negative growth? Justify with specific reason."
      ],
      "metadata": {
        "id": "RoGjAbkUYoAp"
      }
    },
    {
      "cell_type": "markdown",
      "source": [
        "Answer Here"
      ],
      "metadata": {
        "id": "zfJ8IqMcYoAp"
      }
    },
    {
      "cell_type": "markdown",
      "source": [
        "#### Chart - 4"
      ],
      "metadata": {
        "id": "4Of9eVA-YrdM"
      }
    },
    {
      "cell_type": "code",
      "source": [
        "# Chart - 4 visualization code\n",
        "plt.figure(figsize=(10, 6))\n",
        "sns.histplot(df['Rating'].dropna(), bins=20, kde=True)\n",
        "plt.title('Distribution of Ratings')\n",
        "plt.xlabel('Rating')\n",
        "plt.ylabel('Frequency')\n",
        "plt.show()"
      ],
      "metadata": {
        "id": "irlUoxc8YrdO"
      },
      "execution_count": null,
      "outputs": []
    },
    {
      "cell_type": "markdown",
      "source": [
        "##### 1. Why did you pick the specific chart?"
      ],
      "metadata": {
        "id": "iky9q4vBYrdO"
      }
    },
    {
      "cell_type": "markdown",
      "source": [
        "Answer Here.\n",
        "I picked this chart to find out the distribution of Rating"
      ],
      "metadata": {
        "id": "aJRCwT6DYrdO"
      }
    },
    {
      "cell_type": "markdown",
      "source": [
        "##### 2. What is/are the insight(s) found from the chart?"
      ],
      "metadata": {
        "id": "F6T5p64dYrdO"
      }
    },
    {
      "cell_type": "markdown",
      "source": [
        "Answer Here\n",
        "I found that , 4.5 rating having higher frequency over all ratings"
      ],
      "metadata": {
        "id": "Xx8WAJvtYrdO"
      }
    },
    {
      "cell_type": "markdown",
      "source": [
        "##### 3. Will the gained insights help creating a positive business impact?\n",
        "Are there any insights that lead to negative growth? Justify with specific reason."
      ],
      "metadata": {
        "id": "y-Ehk30pYrdP"
      }
    },
    {
      "cell_type": "markdown",
      "source": [
        "Answer Here\n",
        "Absolutely, the insights gained from an exploratory data analysis (EDA) of Play Store data can significantly contribute to creating a positive business impact because its showing the distribution of the Ratings ie mean,low rating apps are not having that much appearances to the people."
      ],
      "metadata": {
        "id": "jLNxxz7MYrdP"
      }
    },
    {
      "cell_type": "markdown",
      "source": [
        "#### Chart - 5"
      ],
      "metadata": {
        "id": "bamQiAODYuh1"
      }
    },
    {
      "cell_type": "code",
      "source": [
        "# Chart - 5 visualization code\n",
        "# Distribution of ratings\n",
        "plt.figure(figsize=(10, 6))\n",
        "sns.histplot(df['Rating'].dropna(), bins=20, kde=True)\n",
        "plt.title('Distribution of App Ratings')\n",
        "plt.xlabel('Rating')\n",
        "plt.ylabel('Frequency')\n",
        "plt.show()"
      ],
      "metadata": {
        "id": "TIJwrbroYuh3"
      },
      "execution_count": null,
      "outputs": []
    },
    {
      "cell_type": "markdown",
      "source": [
        "##### 1. Why did you pick the specific chart?"
      ],
      "metadata": {
        "id": "QHF8YVU7Yuh3"
      }
    },
    {
      "cell_type": "markdown",
      "source": [
        "Answer Here.\n",
        "i choosen this one to find out the 'distribution of app rating'"
      ],
      "metadata": {
        "id": "dcxuIMRPYuh3"
      }
    },
    {
      "cell_type": "markdown",
      "source": [
        "##### 2. What is/are the insight(s) found from the chart?"
      ],
      "metadata": {
        "id": "GwzvFGzlYuh3"
      }
    },
    {
      "cell_type": "markdown",
      "source": [
        "Answer Here\n",
        "4.5 rating apps are having the highest frequency"
      ],
      "metadata": {
        "id": "uyqkiB8YYuh3"
      }
    },
    {
      "cell_type": "markdown",
      "source": [
        "##### 3. Will the gained insights help creating a positive business impact?\n",
        "Are there any insights that lead to negative growth? Justify with specific reason."
      ],
      "metadata": {
        "id": "qYpmQ266Yuh3"
      }
    },
    {
      "cell_type": "markdown",
      "source": [
        "Answer Here"
      ],
      "metadata": {
        "id": "_WtzZ_hCYuh4"
      }
    },
    {
      "cell_type": "markdown",
      "source": [
        "#### Chart - 6"
      ],
      "metadata": {
        "id": "OH-pJp9IphqM"
      }
    },
    {
      "cell_type": "code",
      "source": [
        "# Chart - 6 visualization code\n",
        "# Distribution of installs\n",
        "plt.figure(figsize=(10, 6))\n",
        "sns.histplot(df['Installs'], bins=20, kde=True)\n",
        "plt.title('Distribution of App Installs')\n",
        "plt.xlabel('Installs')\n",
        "plt.ylabel('Frequency')\n",
        "plt.show()"
      ],
      "metadata": {
        "id": "kuRf4wtuphqN"
      },
      "execution_count": null,
      "outputs": []
    },
    {
      "cell_type": "markdown",
      "source": [
        "##### 1. Why did you pick the specific chart?"
      ],
      "metadata": {
        "id": "bbFf2-_FphqN"
      }
    },
    {
      "cell_type": "markdown",
      "source": [
        "Answer Here.\n",
        "I picked this chart to find out the distribution of app installs"
      ],
      "metadata": {
        "id": "loh7H2nzphqN"
      }
    },
    {
      "cell_type": "markdown",
      "source": [
        "##### 2. What is/are the insight(s) found from the chart?"
      ],
      "metadata": {
        "id": "_ouA3fa0phqN"
      }
    },
    {
      "cell_type": "markdown",
      "source": [
        "Answer Here\n",
        "A right-skewed distribution (where most apps have low installs, with a long tail extending to the right) is common in app marketplaces.\n",
        "\n",
        "the histogram shows a large concentration of apps in the lower install ranges (e.g., 0-10,000 installs), it indicates that a majority of apps have relatively low user bases.\n",
        "\n"
      ],
      "metadata": {
        "id": "VECbqPI7phqN"
      }
    },
    {
      "cell_type": "markdown",
      "source": [
        "##### 3. Will the gained insights help creating a positive business impact?\n",
        "Are there any insights that lead to negative growth? Justify with specific reason."
      ],
      "metadata": {
        "id": "Seke61FWphqN"
      }
    },
    {
      "cell_type": "markdown",
      "source": [
        "Answer Here\n",
        "It obvioulsy helps to creating the positive business impact because it showing the destribution of app installs  "
      ],
      "metadata": {
        "id": "DW4_bGpfphqN"
      }
    },
    {
      "cell_type": "markdown",
      "source": [
        "#### Chart - 7"
      ],
      "metadata": {
        "id": "PIIx-8_IphqN"
      }
    },
    {
      "cell_type": "code",
      "source": [
        "# Chart - 7 visualization code\n",
        "# Correlation heatmap\n",
        "corr_matrix = df[['Rating', 'Reviews', 'Installs', 'Price']].corr()\n",
        "plt.figure(figsize=(8, 6))\n",
        "sns.heatmap(corr_matrix, annot=True, cmap='coolwarm', linewidths=.5)\n",
        "plt.title('Correlation Heatmap')\n",
        "plt.show()"
      ],
      "metadata": {
        "id": "lqAIGUfyphqO"
      },
      "execution_count": null,
      "outputs": []
    },
    {
      "cell_type": "markdown",
      "source": [
        "##### 1. Why did you pick the specific chart?"
      ],
      "metadata": {
        "id": "t27r6nlMphqO"
      }
    },
    {
      "cell_type": "markdown",
      "source": [
        "Answer Here.\n",
        " I PICKED THIS CHART TO FIND OUT THE CORRELATION HEATMAP OF THE REVIEW,INSTALL,RATING AND PRICE COLUMNS."
      ],
      "metadata": {
        "id": "iv6ro40sphqO"
      }
    },
    {
      "cell_type": "markdown",
      "source": [
        "##### 2. What is/are the insight(s) found from the chart?"
      ],
      "metadata": {
        "id": "r2jJGEOYphqO"
      }
    },
    {
      "cell_type": "markdown",
      "source": [
        "Answer Here\n"
      ],
      "metadata": {
        "id": "Po6ZPi4hphqO"
      }
    },
    {
      "cell_type": "markdown",
      "source": [
        "##### 3. Will the gained insights help creating a positive business impact?\n",
        "Are there any insights that lead to negative growth? Justify with specific reason."
      ],
      "metadata": {
        "id": "b0JNsNcRphqO"
      }
    },
    {
      "cell_type": "markdown",
      "source": [
        "Answer Here"
      ],
      "metadata": {
        "id": "xvSq8iUTphqO"
      }
    },
    {
      "cell_type": "markdown",
      "source": [
        "#### Chart - 8"
      ],
      "metadata": {
        "id": "BZR9WyysphqO"
      }
    },
    {
      "cell_type": "code",
      "source": [
        "# Chart - 8 visualization code\n",
        "# Number of apps in each category\n",
        "plt.figure(figsize=(12, 8))\n",
        "sns.countplot(y='Category', data=df, order=df['Category'].value_counts().index, palette='viridis')\n",
        "plt.title('Number of Apps by Category')\n",
        "plt.xlabel('Count')\n",
        "plt.ylabel('Category')\n",
        "plt.show()"
      ],
      "metadata": {
        "id": "TdPTWpAVphqO"
      },
      "execution_count": null,
      "outputs": []
    },
    {
      "cell_type": "markdown",
      "source": [
        "##### 1. Why did you pick the specific chart?"
      ],
      "metadata": {
        "id": "jj7wYXLtphqO"
      }
    },
    {
      "cell_type": "markdown",
      "source": [
        "Answer Here.\n",
        "I PICKED THIS APP TO FIND OUT THE NUMBER OF APPS OVER ALL CATEGORIES\n"
      ],
      "metadata": {
        "id": "Ob8u6rCTphqO"
      }
    },
    {
      "cell_type": "markdown",
      "source": [
        "##### 2. What is/are the insight(s) found from the chart?"
      ],
      "metadata": {
        "id": "eZrbJ2SmphqO"
      }
    },
    {
      "cell_type": "markdown",
      "source": [
        "Answer Here\n",
        "'FAMILY' CATEGORY HAVING HIGHEST NUMBER OF APPS AND 'BEAUTY' CATEGORY HAVING LOWEST NUMBER OF APPS"
      ],
      "metadata": {
        "id": "mZtgC_hjphqO"
      }
    },
    {
      "cell_type": "markdown",
      "source": [
        "##### 3. Will the gained insights help creating a positive business impact?\n",
        "Are there any insights that lead to negative growth? Justify with specific reason."
      ],
      "metadata": {
        "id": "rFu4xreNphqO"
      }
    },
    {
      "cell_type": "markdown",
      "source": [
        "Answer Here\n",
        "IT DEFINETLY HELPS TO CREATING A POSITIVE BUSINESS IMPACT BECAUSE IT SHOWING ALL DETAILS ABOUT NUMBER OF APPS OVER ALL CATEGORIES."
      ],
      "metadata": {
        "id": "ey_0qi68phqO"
      }
    },
    {
      "cell_type": "markdown",
      "source": [
        "#### Chart - 9"
      ],
      "metadata": {
        "id": "YJ55k-q6phqO"
      }
    },
    {
      "cell_type": "code",
      "source": [
        "# Chart - 9 visualization code\n",
        "# Average rating by category\n",
        "category_ratings = df.groupby('Category')['Rating'].mean().sort_values()\n",
        "\n",
        "plt.figure(figsize=(12, 8))\n",
        "sns.barplot(x=category_ratings, y=category_ratings.index, palette='viridis')\n",
        "plt.title('Average Rating by Category')\n",
        "plt.xlabel('Average Rating')\n",
        "plt.ylabel('Category')\n",
        "plt.show()"
      ],
      "metadata": {
        "id": "B2aS4O1ophqO"
      },
      "execution_count": null,
      "outputs": []
    },
    {
      "cell_type": "markdown",
      "source": [
        "##### 1. Why did you pick the specific chart?"
      ],
      "metadata": {
        "id": "gCFgpxoyphqP"
      }
    },
    {
      "cell_type": "markdown",
      "source": [
        "Answer Here.\n",
        "I CHOOSE THIS CHART TO FIND OUT THE AVG RATING OVER ALL CATEGORY."
      ],
      "metadata": {
        "id": "TVxDimi2phqP"
      }
    },
    {
      "cell_type": "markdown",
      "source": [
        "##### 2. What is/are the insight(s) found from the chart?"
      ],
      "metadata": {
        "id": "OVtJsKN_phqQ"
      }
    },
    {
      "cell_type": "markdown",
      "source": [
        "Answer Here\n",
        "'EVENTS' AND 'DATING' HAVING HIGHEST AND LOWEST AVG RATING OVER ALL CATEGORIES."
      ],
      "metadata": {
        "id": "ngGi97qjphqQ"
      }
    },
    {
      "cell_type": "markdown",
      "source": [
        "##### 3. Will the gained insights help creating a positive business impact?\n",
        "Are there any insights that lead to negative growth? Justify with specific reason."
      ],
      "metadata": {
        "id": "lssrdh5qphqQ"
      }
    },
    {
      "cell_type": "markdown",
      "source": [
        "Answer Here.\n",
        "OBVIOUSLY IT HELP TO CREATINF THE POSITIVE IMPACT IN BUSINESS PURPOSE BECAUSE IT SHOWING THE COMPLETE DETAILS OF THE AVG RATING OVER ALL CATEGORIES."
      ],
      "metadata": {
        "id": "tBpY5ekJphqQ"
      }
    },
    {
      "cell_type": "markdown",
      "source": [
        "Chart-10"
      ],
      "metadata": {
        "id": "WBFc3XnqU3Ex"
      }
    },
    {
      "cell_type": "code",
      "source": [
        "plt.figure(figsize=(10, 6))\n",
        "sns.scatterplot(x='Installs', y='Rating', data=df, alpha=0.6)\n",
        "plt.title('Scatter Plot of Rating vs. Installs')\n",
        "plt.xlabel('Number of Installs')\n",
        "plt.ylabel('Rating')\n",
        "plt.show()\n"
      ],
      "metadata": {
        "id": "r_3VnVDYUvJ7"
      },
      "execution_count": null,
      "outputs": []
    },
    {
      "cell_type": "code",
      "source": [],
      "metadata": {
        "id": "wgzR89H1XOLz"
      },
      "execution_count": null,
      "outputs": []
    },
    {
      "cell_type": "markdown",
      "source": [
        "Why you picked this chart?\n",
        "\n",
        "\n",
        "I picked this chart to find out the relation between rating and installs of the given data\n",
        "\n",
        "\n"
      ],
      "metadata": {
        "id": "5CbFm3HZWgBV"
      }
    },
    {
      "cell_type": "markdown",
      "source": [
        "Insights:\n",
        "\n",
        "It havign larger rating when number of install is 'zero'"
      ],
      "metadata": {
        "id": "cpIoyBDMW5g0"
      }
    },
    {
      "cell_type": "markdown",
      "source": [
        "#### Chart - 11"
      ],
      "metadata": {
        "id": "x-EpHcCOp1ci"
      }
    },
    {
      "cell_type": "code",
      "source": [
        "# Chart - 11 visualization code\n",
        "# Number of apps in each category\n",
        "plt.figure(figsize=(12, 8))\n",
        "sns.countplot(y='Category', data=df, order=df['Category'].value_counts().index, palette='viridis')\n",
        "plt.title('Number of Apps by Category')\n",
        "plt.xlabel('Count')\n",
        "plt.ylabel('Category')\n",
        "plt.show()"
      ],
      "metadata": {
        "id": "mAQTIvtqp1cj"
      },
      "execution_count": null,
      "outputs": []
    },
    {
      "cell_type": "markdown",
      "source": [
        "##### 1. Why did you pick the specific chart?"
      ],
      "metadata": {
        "id": "X_VqEhTip1ck"
      }
    },
    {
      "cell_type": "markdown",
      "source": [
        "Answer Here.\n",
        "I PICKED THIS CHART TO FIND OUT THE 'NUMBER OF APPS BY CATEGORY'"
      ],
      "metadata": {
        "id": "-vsMzt_np1ck"
      }
    },
    {
      "cell_type": "markdown",
      "source": [
        "##### 2. What is/are the insight(s) found from the chart?"
      ],
      "metadata": {
        "id": "8zGJKyg5p1ck"
      }
    },
    {
      "cell_type": "markdown",
      "source": [
        "Answer Here\n",
        "FAMILY CATEGORY HAVE HIGHEST COUNT OVER ALL CATEGORY\n",
        "AND BEAUTY CATEGORY HAVING LOWEST COUNT OVER ALL"
      ],
      "metadata": {
        "id": "ZYdMsrqVp1ck"
      }
    },
    {
      "cell_type": "markdown",
      "source": [
        "##### 3. Will the gained insights help creating a positive business impact?\n",
        "Are there any insights that lead to negative growth? Justify with specific reason."
      ],
      "metadata": {
        "id": "PVzmfK_Ep1ck"
      }
    },
    {
      "cell_type": "markdown",
      "source": [
        "Answer Here\n",
        "DEFFINETLY IT HELP CREATING THE POSITIVE BUSINESS IMPACT BECAUSE IT SHOWS THE COUNT OF THE ALL CATEGORY."
      ],
      "metadata": {
        "id": "druuKYZpp1ck"
      }
    },
    {
      "cell_type": "markdown",
      "source": [
        "#### Chart - 12"
      ],
      "metadata": {
        "id": "n3dbpmDWp1ck"
      }
    },
    {
      "cell_type": "code",
      "source": [
        "plt.figure(figsize=(10, 6))\n",
        "sns.scatterplot(x='Reviews', y='Rating', data=df, alpha=0.6)\n",
        "plt.title('Scatter Plot of Rating vs. Reviews')\n",
        "plt.xlabel('Number of Reviews')\n",
        "plt.ylabel('Rating')\n",
        "plt.show()"
      ],
      "metadata": {
        "id": "bwevp1tKp1ck"
      },
      "execution_count": null,
      "outputs": []
    },
    {
      "cell_type": "markdown",
      "source": [
        "##### 1. Why did you pick the specific chart?"
      ],
      "metadata": {
        "id": "ylSl6qgtp1ck"
      }
    },
    {
      "cell_type": "markdown",
      "source": [
        "Answer Here.\n",
        "I picked this chart to find out the relation between the 'Rating' and 'Review' by using scatter plot"
      ],
      "metadata": {
        "id": "m2xqNkiQp1ck"
      }
    },
    {
      "cell_type": "markdown",
      "source": [
        "##### 2. What is/are the insight(s) found from the chart?"
      ],
      "metadata": {
        "id": "ZWILFDl5p1ck"
      }
    },
    {
      "cell_type": "markdown",
      "source": [
        "Answer Here\n",
        "large number of review are in between 4 to 4.5"
      ],
      "metadata": {
        "id": "x-lUsV2mp1ck"
      }
    },
    {
      "cell_type": "markdown",
      "source": [
        "##### 3. Will the gained insights help creating a positive business impact?\n",
        "Are there any insights that lead to negative growth? Justify with specific reason."
      ],
      "metadata": {
        "id": "M7G43BXep1ck"
      }
    },
    {
      "cell_type": "markdown",
      "source": [
        "Answer Here\n",
        "obviously it help to creating the business impact because it showing the relation between the rating and review of the given data"
      ],
      "metadata": {
        "id": "5wwDJXsLp1cl"
      }
    },
    {
      "cell_type": "markdown",
      "source": [
        "#### Chart - 13"
      ],
      "metadata": {
        "id": "Ag9LCva-p1cl"
      }
    },
    {
      "cell_type": "code",
      "source": [
        "# Chart - 13 visualization code\n",
        "# Distribution of free vs. paid apps\n",
        "plt.figure(figsize=(8, 6))\n",
        "sns.countplot(x='Type', data=df, palette='viridis')\n",
        "plt.title('Distribution of Free vs. Paid Apps')\n",
        "plt.xlabel('App Type')\n",
        "plt.ylabel('Count')\n",
        "plt.show()\n",
        "\n"
      ],
      "metadata": {
        "id": "EUfxeq9-p1cl"
      },
      "execution_count": null,
      "outputs": []
    },
    {
      "cell_type": "markdown",
      "source": [
        "##### 1. Why did you pick the specific chart?"
      ],
      "metadata": {
        "id": "E6MkPsBcp1cl"
      }
    },
    {
      "cell_type": "markdown",
      "source": [
        "Answer Here.\n",
        "I PICKED THIS CHART TO FIND OUT THE 'DISTRIBUTION OF FREE AND PAID APPS'"
      ],
      "metadata": {
        "id": "V22bRsFWp1cl"
      }
    },
    {
      "cell_type": "markdown",
      "source": [
        "##### 2. What is/are the insight(s) found from the chart?"
      ],
      "metadata": {
        "id": "2cELzS2fp1cl"
      }
    },
    {
      "cell_type": "markdown",
      "source": [
        "Answer Here\n",
        "FREE APPS HAVING VERY HIGH DISTRIBUTION AND PAID APPS HAVING VERY LOW DISTRIBUTION THAN FREE APPS."
      ],
      "metadata": {
        "id": "ozQPc2_Ip1cl"
      }
    },
    {
      "cell_type": "markdown",
      "source": [
        "##### 3. Will the gained insights help creating a positive business impact?\n",
        "Are there any insights that lead to negative growth? Justify with specific reason."
      ],
      "metadata": {
        "id": "3MPXvC8up1cl"
      }
    },
    {
      "cell_type": "markdown",
      "source": [
        "Answer Here\n",
        "ABSOLUTELY ,IT HELPS TO CREATING A POSITIVE BUSINESS IMPACT BECAUSE IT PROVIDE THE DISTRIBUTION OF THE PAID AND FREE APPS"
      ],
      "metadata": {
        "id": "GL8l1tdLp1cl"
      }
    },
    {
      "cell_type": "markdown",
      "source": [
        "#### Chart - 14 - Correlation Heatmap"
      ],
      "metadata": {
        "id": "NC_X3p0fY2L0"
      }
    },
    {
      "cell_type": "code",
      "source": [
        "# Correlation Heatmap visualization code\n",
        "pivot_table = df.pivot_table(values='Rating',\n",
        "                             index='Category',\n",
        "                             columns=pd.cut(df['Installs'], bins=5),\n",
        "                             aggfunc='mean')\n",
        "plt.figure(figsize=(14, 8))\n",
        "sns.heatmap(pivot_table, annot=True, fmt=\".1f\", cmap='coolwarm', linewidths=.5)\n",
        "plt.title('Heat Map of Average Ratings by Category and Install Ranges')\n",
        "plt.xlabel('Install Ranges')\n",
        "plt.ylabel('App Category')\n",
        "plt.xticks(rotation=45)\n",
        "plt.yticks(rotation=0)\n",
        "plt.show()"
      ],
      "metadata": {
        "id": "xyC9zolEZNRQ"
      },
      "execution_count": null,
      "outputs": []
    },
    {
      "cell_type": "markdown",
      "source": [
        "##### 1. Why did you pick the specific chart?"
      ],
      "metadata": {
        "id": "UV0SzAkaZNRQ"
      }
    },
    {
      "cell_type": "markdown",
      "source": [
        "Answer Here.\n",
        "I picked this chart to find the 'Heat Map of Average Ratings by Category and Install Ranges'"
      ],
      "metadata": {
        "id": "DVPuT8LYZNRQ"
      }
    },
    {
      "cell_type": "markdown",
      "source": [
        "##### 2. What is/are the insight(s) found from the chart?"
      ],
      "metadata": {
        "id": "YPEH6qLeZNRQ"
      }
    },
    {
      "cell_type": "markdown",
      "source": [
        "Answer Here\n",
        "Darker colors indicate higher average ratings, while lighter colors indicate lower average ratings.\n",
        "\n",
        "1) 'Events','ART_AND_DESIGN'  and 'Education' categories show the higher avg rating across all low  install ranges\n",
        "\n",
        "2) 'PHOTOGRAPHY' AND 'GAME' ARE HAVING HIGHER AVG RATING AT HIGH INSTALL RANGES\n"
      ],
      "metadata": {
        "id": "bfSqtnDqZNRR"
      }
    },
    {
      "cell_type": "markdown",
      "source": [
        "#### Chart - 15 - Pair Plot"
      ],
      "metadata": {
        "id": "q29F0dvdveiT"
      }
    },
    {
      "cell_type": "code",
      "source": [
        "# Pair Plot visualization code\n",
        "# Pair plot to visualize relationships between variables\n",
        "sns.pairplot(df[['Rating', 'Reviews', 'Installs', 'Price']])\n",
        "plt.suptitle('Pair Plot of Rating, Reviews, Installs, and Price', y=1.02)\n",
        "plt.show()"
      ],
      "metadata": {
        "id": "o58-TEIhveiU"
      },
      "execution_count": null,
      "outputs": []
    },
    {
      "cell_type": "markdown",
      "source": [
        "##### 1. Why did you pick the specific chart?"
      ],
      "metadata": {
        "id": "EXh0U9oCveiU"
      }
    },
    {
      "cell_type": "markdown",
      "source": [
        "Answer Here.\n",
        "I picked this chart to find out 'Pair plot to visualize relationships between variables'"
      ],
      "metadata": {
        "id": "eMmPjTByveiU"
      }
    },
    {
      "cell_type": "markdown",
      "source": [
        "##### 2. What is/are the insight(s) found from the chart?"
      ],
      "metadata": {
        "id": "22aHeOlLveiV"
      }
    },
    {
      "cell_type": "markdown",
      "source": [
        "Answer Here\n",
        "1. Rating vs. Reviews:\n",
        "\n",
        "Positive Correlation:\n",
        "A positive correlation between Rating and Reviews indicates that apps with more reviews tend to have higher ratings. This might suggest that highly-rated apps attract more user engagement and feedback.\n",
        "\n",
        "Cluster Analysis:\n",
        " Clusters can indicate groups of apps that have similar levels of ratings and reviews. For instance, popular apps might form a distinct cluster with high ratings and a large number of reviews.\n",
        "\n",
        "2. Rating vs. Installs:\n",
        "\n",
        "Positive Correlation:\n",
        " If a positive correlation is observed, it suggests that highly-rated apps are downloaded more frequently. This can be because users are more likely to download apps with higher ratings.\n",
        "\n",
        "Outliers:\n",
        " Outliers with high installs but low ratings might indicate apps that are widely downloaded but poorly received.\n",
        "\n",
        "3. Rating vs. Price:\n",
        "\n",
        "Weak or No Correlation: Typically, the relationship between Rating and Price might not be strong, as users rate apps based on experience rather than cost. However, if there is a noticeable pattern, it might suggest user sensitivity to app pricing.\n",
        "\n",
        "High-Rated Premium Apps:\n",
        "\n",
        "Observing a cluster of high-rated apps at higher price points can indicate the presence of premium apps that users are willing to pay for due to their quality.\n",
        "\n",
        "4. Reviews vs. Installs:\n",
        "\n",
        "Strong Positive Correlation:\n",
        "\n",
        "A strong positive correlation between Reviews and Installs suggests that apps with more downloads tend to receive more reviews. This is expected as more users lead to more feedback.\n",
        "\n",
        "Linear Relationship:\n",
        "\n",
        "A linear relationship might indicate a proportional increase in reviews with installs, useful for predicting review counts based on download numbers.\n",
        "\n",
        "5. Reviews vs. Price:\n",
        "\n",
        "Weak Correlation:\n",
        "\n",
        " The relationship between Reviews and Price might be weak, as the price does not necessarily affect the number of reviews an app receives. However, expensive apps might receive more detailed feedback.\n",
        "Review Count for Premium Apps: High review counts for premium apps can indicate active user engagement despite higher prices.\n",
        "\n",
        "6. Installs vs. Price:\n",
        "\n",
        "Negative Correlation:\n",
        "\n",
        " Often, a negative correlation between Installs and Price suggests that free or cheaper apps are downloaded more frequently than expensive ones.\n",
        "\n",
        "Freemium Model:\n",
        "\n",
        " A cluster of apps with low price and high installs might indicate successful freemium models where users are initially attracted to free features."
      ],
      "metadata": {
        "id": "uPQ8RGwHveiV"
      }
    },
    {
      "cell_type": "markdown",
      "source": [
        "## **5. Solution to Business Objective**"
      ],
      "metadata": {
        "id": "JcMwzZxoAimU"
      }
    },
    {
      "cell_type": "markdown",
      "source": [
        "#### What do you suggest the client to achieve Business Objective ?\n",
        "Explain Briefly.\n",
        "To achieve the business objective using the insights from Play Store EDA data, I suggest the following strategic recommendations for the client:\n",
        "1. Market and User Segmentation:\n",
        "Identify Target Audiences: Use the content rating distribution to segment the market. Focus on categories with the highest number of apps and those with favorable ratings to identify target audiences.\n",
        "\n",
        "Understand User Preferences: Analyze user reviews and ratings within each content rating category to understand user preferences and pain points. This helps in tailoring app features to meet user expectations.\n",
        "\n",
        "2. Product Development and Innovation:\n",
        "Feature Prioritization: Develop features that align with the preferences of the most common content rating segments. For example, 'Everyone' rated apps should prioritize simplicity and family-friendly content, while 'Teen' rated apps can include more interactive and social features.\n",
        "\n",
        "Explore Emerging Categories: Identify categories with growing app numbers and high ratings. Invest in developing apps for these emerging categories to capture market opportunities.\n",
        "\n",
        "3. Marketing and User Acquisition:\n",
        "\n",
        "Targeted Advertising: Use the insights from content ratings to create targeted advertising campaigns. Tailor marketing messages to resonate with specific user segments (e.g., educational apps for 'Everyone', gaming apps for 'Teen').\n",
        "\n",
        "Optimize ASO (App Store Optimization): Ensure that app descriptions, keywords, and images are optimized for search terms relevant to the most popular categories and content ratings.\n",
        "\n",
        "4. Competitive Analysis and Benchmarking:\n",
        "\n",
        "Benchmark Against Competitors: Compare your apps against top-performing apps in similar categories and content ratings. Identify their strengths and areas where your apps can differentiate.\n",
        "\n",
        "Stay Updated on Trends: Regularly analyze content rating trends to stay updated on shifting user preferences and market dynamics. Adjust your strategies accordingly.\n",
        "\n",
        "5. Monetization Strategies:\n",
        "\n",
        "Freemium Model: For categories with a large number of free apps, consider a freemium model where basic features are free, and premium features are paid.\n",
        "In-App Purchases and Ads: For categories with high engagement, explore in-app purchases and advertising as revenue streams. Ensure that these monetization strategies enhance user experience rather than detract from it.\n",
        "\n",
        "6. User Engagement and Retention:\n",
        "\n",
        "Enhance User Experience: Use user feedback from reviews to continually improve the app’s user experience. Address common complaints and incorporate requested features.\n",
        "\n",
        "Engagement Campaigns:\n",
        "Run campaigns to boost user engagement, such as regular updates, loyalty rewards, and community-building activities within the app.\n",
        "\n",
        "7. Content and Policy Compliance:\n",
        "\n",
        "Ensure Compliance:\n",
        "Regularly review and update content to comply with Play Store policies and guidelines, especially for content ratings. This helps avoid app removal and maintains user trust.\n",
        "\n",
        "Parental Controls:\n",
        " For apps targeting younger audiences, ensure robust parental controls and safety features to enhance credibility and trust.\n",
        "\n",
        " Implementation Example:\n",
        "\n",
        "Example 1:\n",
        " Educational Apps for 'Everyone' Rating\n",
        "Objective:\n",
        " Increase market share in the educational app segment.\n",
        "\n",
        "Strategy:\n",
        "\n",
        "Develop apps with interactive and engaging learning content suitable for all ages.\n",
        "Run targeted marketing campaigns aimed at parents and educators.\n",
        "Use ASO techniques to rank higher in search results for educational keywords.\n",
        "\n",
        "Execution:\n",
        "\n",
        "Analyze reviews to identify popular features and common issues in existing educational apps.\n",
        "Incorporate feedback to enhance app quality and user experience.\n",
        "Promote the app through social media, educational forums, and collaborations with schools."
      ],
      "metadata": {
        "id": "8G2x9gOozGDZ"
      }
    },
    {
      "cell_type": "markdown",
      "source": [
        "Answer Here."
      ],
      "metadata": {
        "id": "pASKb0qOza21"
      }
    },
    {
      "cell_type": "markdown",
      "source": [
        "# **Conclusion**"
      ],
      "metadata": {
        "id": "gCX9965dhzqZ"
      }
    },
    {
      "cell_type": "markdown",
      "source": [],
      "metadata": {
        "id": "KRmnuc1NvtDw"
      }
    },
    {
      "cell_type": "markdown",
      "source": [
        "Conclusion:\n",
        "\n",
        "The EDA of Google Play Store data provided comprehensive insights into app characteristics and user engagement. High ratings and a large number of reviews are generally associated with high install counts, indicating popularity and user satisfaction. The analysis also highlighted key trends and distributions in app categories, sizes, and pricing models.\n",
        "\n",
        "\n",
        "Future Work:\n",
        "\n",
        "Sentiment Analysis:\n",
        "Perform sentiment analysis on user reviews to gain deeper insights into user feedback.\n",
        "\n",
        "Predictive Modeling:\n",
        " Develop models to predict app success based on initial ratings and reviews.\n",
        "\n",
        "Comparative Analysis:\n",
        "Compare Google Play Store data with other app stores to identify unique trends and opportunities."
      ],
      "metadata": {
        "id": "Fjb1IsQkh3yE"
      }
    },
    {
      "cell_type": "markdown",
      "source": [
        "### ***Hurrah! You have successfully completed your EDA Capstone Project !!!***"
      ],
      "metadata": {
        "id": "gIfDvo9L0UH2"
      }
    }
  ]
}